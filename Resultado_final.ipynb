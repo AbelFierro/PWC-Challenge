{
 "cells": [
  {
   "cell_type": "markdown",
   "id": "d8ad3831",
   "metadata": {},
   "source": [
    "# Contenidos del Proyecto\n",
    "\n",
    "## Notebooks Principales\n",
    "1. [Análisis Exploratorio](./notebooks/eda/eda.ipynb)\n",
    "2. [Enfoque Inicial de Modelos](./notebooks/modelos/enfoque_multi_modelos.ipynb)\n",
    "3. [LGBM y optimización](./notebooks/modelos/lgbm/lgbm.ipynb)\n",
    "4. [Ensamble - Voting](./notebooks/modelos/ensamble/Voting.ipynb)\n",
    "5. [Ensamble - Stacking](./notebooks/modelos/ensamble/Stacking.ipynb)\n",
    "6. [Visualizaciones](./notebooks/visualizacion/app.py)\n",
    "\n",
    "\n",
    "## Notebooks de Soporte\n",
    "- [Entrenamieto LGBM](./notebooks/modelos/lgbm/funciones_lgbm.py)\n",
    "- [Predicciones LGBM](./notebooks/modelos/lgbm/pred_lgbm.py)\n"
   ]
  },
  {
   "cell_type": "markdown",
   "id": "7e97f069",
   "metadata": {},
   "source": [
    "## Análisis exploratorio"
   ]
  },
  {
   "cell_type": "markdown",
   "id": "338b996b",
   "metadata": {},
   "source": [
    "Se realizan imputaciones de datos nulos a través de las descripciones.\n",
    "Se observan relaciones entre la variable objetivo y edades, experiencia, nivel educativo por lo cuál más adelante se crean grupos para reflejar dichas relaciones"
   ]
  },
  {
   "cell_type": "markdown",
   "id": "ec112a29",
   "metadata": {},
   "source": [
    "## Enfoque Inicial de modelos"
   ]
  },
  {
   "cell_type": "markdown",
   "id": "b2e5e505",
   "metadata": {},
   "source": [
    "Se corrieron en principio varios modelitos que arrojaron resultados similares salvo SVR.\n"
   ]
  },
  {
   "cell_type": "markdown",
   "id": "191049b8",
   "metadata": {},
   "source": [
    "\n",
    "<div align=\"center\">\n",
    "    <img src=\"./images/1_enfoque.png\" width=\"300\">\n",
    "</div>"
   ]
  },
  {
   "cell_type": "markdown",
   "id": "2e263995",
   "metadata": {},
   "source": [
    "Luego se aplico un ligero feature engineering y se obtuvo en una nueva corrida que el modelo con lgbm daba mejores resultados"
   ]
  },
  {
   "cell_type": "markdown",
   "id": "7bc28a80",
   "metadata": {},
   "source": [
    "<div align=\"center\">\n",
    "    <img src=\"./images/2_enfoque.png\" width=\"300\">\n",
    "</div>"
   ]
  },
  {
   "cell_type": "markdown",
   "id": "a954ed53",
   "metadata": {},
   "source": [
    "Utilizaremos RMSE como métrica en primer lugar por ser un modelo de regresión y con el objetivo de penalizar los errores grandes. "
   ]
  },
  {
   "cell_type": "markdown",
   "id": "a2fa00e7",
   "metadata": {},
   "source": [
    "<div align=\"center\">\n",
    "    <img src=\"./images/3_enfoque.png\" width=\"600\">\n",
    "</div>"
   ]
  },
  {
   "cell_type": "markdown",
   "id": "d90c8492",
   "metadata": {},
   "source": [
    "## LGBM Y Optimización"
   ]
  },
  {
   "cell_type": "markdown",
   "id": "b785e64d",
   "metadata": {},
   "source": [
    "Se generaron nuevas características para el modelo pensando un poco en cargos jerárquicos, asociaciones con nivel de educación, años de experiencia y edades.\n",
    "Básicamente el modelo subestima los ingresos altos, y podemos detallar un caso en el cuál se deduce que se necesitarian generar más registros; el salario más alto corresponde a un CEO que es un caso único del dataset donde se genera el mayor error.\n"
   ]
  },
  {
   "cell_type": "markdown",
   "id": "3a7f9108",
   "metadata": {},
   "source": [
    "<!-- Imagen centrada -->\n",
    "<div align=\"center\">\n",
    "    <img src=\"./images/1_lgbm.png\" width=\"600\">\n",
    "</div>"
   ]
  },
  {
   "cell_type": "markdown",
   "id": "5ed6d6df",
   "metadata": {},
   "source": [
    "Errores por percentiles"
   ]
  },
  {
   "cell_type": "markdown",
   "id": "3dcfe75c",
   "metadata": {},
   "source": [
    "<div align=\"center\">\n",
    "    <img src=\"./images/3_lgbm.png\" width=\"400\">\n",
    "</div>"
   ]
  },
  {
   "cell_type": "markdown",
   "id": "ebe47a46",
   "metadata": {},
   "source": [
    "Se procede a su vez a realizar una optimización a través de optuna."
   ]
  },
  {
   "cell_type": "markdown",
   "id": "7f60ad00",
   "metadata": {},
   "source": [
    "Carácteristicas de importancia"
   ]
  },
  {
   "cell_type": "markdown",
   "id": "5859fe04",
   "metadata": {},
   "source": [
    "\n",
    "<div align=\"center\">\n",
    "    <img src=\"./images/2_lgbm.png\" width=\"400\">\n",
    "</div>"
   ]
  },
  {
   "cell_type": "markdown",
   "id": "24bff367",
   "metadata": {},
   "source": [
    "## Ensamble - Voting - Stacking"
   ]
  },
  {
   "cell_type": "markdown",
   "id": "8b4ceccf",
   "metadata": {},
   "source": [
    "Se realizaron dos ensambles uno a través del cálculo de promedios y otro a través de la libreria (sklearn.linear_model import Ridge, ElasticNet, LinearRegression) para aprender a combinar los modelos base este último genero una pequeña mejora. "
   ]
  },
  {
   "cell_type": "markdown",
   "id": "d05bd739",
   "metadata": {},
   "source": [
    "## Visualizaciones"
   ]
  },
  {
   "cell_type": "markdown",
   "id": "2548d10c",
   "metadata": {},
   "source": [
    "Se generó una app a través de Streamlit que permite ver las predicciones de los datos que se ingresan. \n",
    "Desde cargar modelo se pueden seleccionar:\n",
    "- Modelo optimizado de lgbm: modelos/salary_with_stats.pkl\n",
    "- Modelo resultante en el ensamble voting: modelos/ensemble_voting.pkl\n",
    "- Modelo resultante en el ensamble stacking: modelos/ensemble_voting2.pkl\n",
    "- Modelo resultante en el ensamble stacking: modelos/ensemble_stacking.pkl"
   ]
  },
  {
   "cell_type": "markdown",
   "id": "9bf8924a",
   "metadata": {},
   "source": [
    "<!-- Imagen responsive -->\n",
    "<img src=\"./images/app.png\" width=\"80%\">\n",
    "\n"
   ]
  }
 ],
 "metadata": {
  "kernelspec": {
   "display_name": ".venv",
   "language": "python",
   "name": "python3"
  },
  "language_info": {
   "codemirror_mode": {
    "name": "ipython",
    "version": 3
   },
   "file_extension": ".py",
   "mimetype": "text/x-python",
   "name": "python",
   "nbconvert_exporter": "python",
   "pygments_lexer": "ipython3",
   "version": "3.10.9"
  }
 },
 "nbformat": 4,
 "nbformat_minor": 5
}
